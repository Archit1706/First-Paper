{
 "cells": [
  {
   "cell_type": "code",
   "execution_count": 1,
   "id": "fbab8f07",
   "metadata": {
    "_cell_guid": "b1076dfc-b9ad-4769-8c92-a6c4dae69d19",
    "_uuid": "8f2839f25d086af736a60e9eeb907d3b93b6e0e5",
    "execution": {
     "iopub.execute_input": "2023-01-31T13:17:24.762754Z",
     "iopub.status.busy": "2023-01-31T13:17:24.762294Z",
     "iopub.status.idle": "2023-01-31T13:17:25.054471Z",
     "shell.execute_reply": "2023-01-31T13:17:25.053238Z"
    },
    "papermill": {
     "duration": 0.309388,
     "end_time": "2023-01-31T13:17:25.057451",
     "exception": false,
     "start_time": "2023-01-31T13:17:24.748063",
     "status": "completed"
    },
    "tags": []
   },
   "outputs": [],
   "source": [
    "import dask.bag as db\n",
    "import pandas as pd\n",
    "import numpy as np\n",
    "import json"
   ]
  },
  {
   "cell_type": "code",
   "execution_count": 2,
   "id": "45960ef5",
   "metadata": {
    "execution": {
     "iopub.execute_input": "2023-01-31T13:17:25.082972Z",
     "iopub.status.busy": "2023-01-31T13:17:25.082521Z",
     "iopub.status.idle": "2023-01-31T13:17:25.091733Z",
     "shell.execute_reply": "2023-01-31T13:17:25.090468Z"
    },
    "papermill": {
     "duration": 0.026007,
     "end_time": "2023-01-31T13:17:25.094608",
     "exception": false,
     "start_time": "2023-01-31T13:17:25.068601",
     "status": "completed"
    },
    "tags": []
   },
   "outputs": [],
   "source": [
    "docs = db.read_text('../input/arxiv/arxiv-metadata-oai-snapshot.json').map(json.loads)"
   ]
  },
  {
   "cell_type": "code",
   "execution_count": 3,
   "id": "0a26bf9a",
   "metadata": {
    "execution": {
     "iopub.execute_input": "2023-01-31T13:17:25.118713Z",
     "iopub.status.busy": "2023-01-31T13:17:25.118274Z",
     "iopub.status.idle": "2023-01-31T13:18:33.555496Z",
     "shell.execute_reply": "2023-01-31T13:18:33.554035Z"
    },
    "papermill": {
     "duration": 68.465114,
     "end_time": "2023-01-31T13:18:33.570815",
     "exception": false,
     "start_time": "2023-01-31T13:17:25.105701",
     "status": "completed"
    },
    "tags": []
   },
   "outputs": [
    {
     "data": {
      "text/plain": [
       "2196513"
      ]
     },
     "execution_count": 3,
     "metadata": {},
     "output_type": "execute_result"
    }
   ],
   "source": [
    "docs.count().compute()"
   ]
  },
  {
   "cell_type": "code",
   "execution_count": 4,
   "id": "fab686f7",
   "metadata": {
    "execution": {
     "iopub.execute_input": "2023-01-31T13:18:33.596487Z",
     "iopub.status.busy": "2023-01-31T13:18:33.596071Z",
     "iopub.status.idle": "2023-01-31T13:18:34.276215Z",
     "shell.execute_reply": "2023-01-31T13:18:34.274762Z"
    },
    "papermill": {
     "duration": 0.697051,
     "end_time": "2023-01-31T13:18:34.279213",
     "exception": false,
     "start_time": "2023-01-31T13:18:33.582162",
     "status": "completed"
    },
    "tags": []
   },
   "outputs": [
    {
     "data": {
      "text/plain": [
       "({'id': '0704.0001',\n",
       "  'submitter': 'Pavel Nadolsky',\n",
       "  'authors': \"C. Bal\\\\'azs, E. L. Berger, P. M. Nadolsky, C.-P. Yuan\",\n",
       "  'title': 'Calculation of prompt diphoton production cross sections at Tevatron and\\n  LHC energies',\n",
       "  'comments': '37 pages, 15 figures; published version',\n",
       "  'journal-ref': 'Phys.Rev.D76:013009,2007',\n",
       "  'doi': '10.1103/PhysRevD.76.013009',\n",
       "  'report-no': 'ANL-HEP-PR-07-12',\n",
       "  'categories': 'hep-ph',\n",
       "  'license': None,\n",
       "  'abstract': '  A fully differential calculation in perturbative quantum chromodynamics is\\npresented for the production of massive photon pairs at hadron colliders. All\\nnext-to-leading order perturbative contributions from quark-antiquark,\\ngluon-(anti)quark, and gluon-gluon subprocesses are included, as well as\\nall-orders resummation of initial-state gluon radiation valid at\\nnext-to-next-to-leading logarithmic accuracy. The region of phase space is\\nspecified in which the calculation is most reliable. Good agreement is\\ndemonstrated with data from the Fermilab Tevatron, and predictions are made for\\nmore detailed tests with CDF and DO data. Predictions are shown for\\ndistributions of diphoton pairs produced at the energy of the Large Hadron\\nCollider (LHC). Distributions of the diphoton pairs from the decay of a Higgs\\nboson are contrasted with those produced from QCD processes at the LHC, showing\\nthat enhanced sensitivity to the signal can be obtained with judicious\\nselection of events.\\n',\n",
       "  'versions': [{'version': 'v1', 'created': 'Mon, 2 Apr 2007 19:18:42 GMT'},\n",
       "   {'version': 'v2', 'created': 'Tue, 24 Jul 2007 20:10:27 GMT'}],\n",
       "  'update_date': '2008-11-26',\n",
       "  'authors_parsed': [['Balázs', 'C.', ''],\n",
       "   ['Berger', 'E. L.', ''],\n",
       "   ['Nadolsky', 'P. M.', ''],\n",
       "   ['Yuan', 'C. -P.', '']]},)"
      ]
     },
     "execution_count": 4,
     "metadata": {},
     "output_type": "execute_result"
    }
   ],
   "source": [
    "docs.take(1)"
   ]
  },
  {
   "cell_type": "code",
   "execution_count": 5,
   "id": "30dfcfdf",
   "metadata": {
    "execution": {
     "iopub.execute_input": "2023-01-31T13:18:34.305188Z",
     "iopub.status.busy": "2023-01-31T13:18:34.304769Z",
     "iopub.status.idle": "2023-01-31T13:18:34.324855Z",
     "shell.execute_reply": "2023-01-31T13:18:34.323567Z"
    },
    "papermill": {
     "duration": 0.036395,
     "end_time": "2023-01-31T13:18:34.327696",
     "exception": false,
     "start_time": "2023-01-31T13:18:34.291301",
     "status": "completed"
    },
    "tags": []
   },
   "outputs": [],
   "source": [
    "category_map = {'astro-ph': 'Astrophysics',\n",
    "'astro-ph.CO': 'Cosmology and Nongalactic Astrophysics',\n",
    "'astro-ph.EP': 'Earth and Planetary Astrophysics',\n",
    "'astro-ph.GA': 'Astrophysics of Galaxies',\n",
    "'astro-ph.HE': 'High Energy Astrophysical Phenomena',\n",
    "'astro-ph.IM': 'Instrumentation and Methods for Astrophysics',\n",
    "'astro-ph.SR': 'Solar and Stellar Astrophysics',\n",
    "'cond-mat.dis-nn': 'Disordered Systems and Neural Networks',\n",
    "'cond-mat.mes-hall': 'Mesoscale and Nanoscale Physics',\n",
    "'cond-mat.mtrl-sci': 'Materials Science',\n",
    "'cond-mat.other': 'Other Condensed Matter',\n",
    "'cond-mat.quant-gas': 'Quantum Gases',\n",
    "'cond-mat.soft': 'Soft Condensed Matter',\n",
    "'cond-mat.stat-mech': 'Statistical Mechanics',\n",
    "'cond-mat.str-el': 'Strongly Correlated Electrons',\n",
    "'cond-mat.supr-con': 'Superconductivity',\n",
    "'cs.AI': 'Artificial Intelligence',\n",
    "'cs.AR': 'Hardware Architecture',\n",
    "'cs.CC': 'Computational Complexity',\n",
    "'cs.CE': 'Computational Engineering, Finance, and Science',\n",
    "'cs.CG': 'Computational Geometry',\n",
    "'cs.CL': 'Computation and Language',\n",
    "'cs.CR': 'Cryptography and Security',\n",
    "'cs.CV': 'Computer Vision and Pattern Recognition',\n",
    "'cs.CY': 'Computers and Society',\n",
    "'cs.DB': 'Databases',\n",
    "'cs.DC': 'Distributed, Parallel, and Cluster Computing',\n",
    "'cs.DL': 'Digital Libraries',\n",
    "'cs.DM': 'Discrete Mathematics',\n",
    "'cs.DS': 'Data Structures and Algorithms',\n",
    "'cs.ET': 'Emerging Technologies',\n",
    "'cs.FL': 'Formal Languages and Automata Theory',\n",
    "'cs.GL': 'General Literature',\n",
    "'cs.GR': 'Graphics',\n",
    "'cs.GT': 'Computer Science and Game Theory',\n",
    "'cs.HC': 'Human-Computer Interaction',\n",
    "'cs.IR': 'Information Retrieval',\n",
    "'cs.IT': 'Information Theory',\n",
    "'cs.LG': 'Machine Learning',\n",
    "'cs.LO': 'Logic in Computer Science',\n",
    "'cs.MA': 'Multiagent Systems',\n",
    "'cs.MM': 'Multimedia',\n",
    "'cs.MS': 'Mathematical Software',\n",
    "'cs.NA': 'Numerical Analysis',\n",
    "'cs.NE': 'Neural and Evolutionary Computing',\n",
    "'cs.NI': 'Networking and Internet Architecture',\n",
    "'cs.OH': 'Other Computer Science',\n",
    "'cs.OS': 'Operating Systems',\n",
    "'cs.PF': 'Performance',\n",
    "'cs.PL': 'Programming Languages',\n",
    "'cs.RO': 'Robotics',\n",
    "'cs.SC': 'Symbolic Computation',\n",
    "'cs.SD': 'Sound',\n",
    "'cs.SE': 'Software Engineering',\n",
    "'cs.SI': 'Social and Information Networks',\n",
    "'cs.SY': 'Systems and Control',\n",
    "'econ.EM': 'Econometrics',\n",
    "'eess.AS': 'Audio and Speech Processing',\n",
    "'eess.IV': 'Image and Video Processing',\n",
    "'eess.SP': 'Signal Processing',\n",
    "'gr-qc': 'General Relativity and Quantum Cosmology',\n",
    "'hep-ex': 'High Energy Physics - Experiment',\n",
    "'hep-lat': 'High Energy Physics - Lattice',\n",
    "'hep-ph': 'High Energy Physics - Phenomenology',\n",
    "'hep-th': 'High Energy Physics - Theory',\n",
    "'math.AC': 'Commutative Algebra',\n",
    "'math.AG': 'Algebraic Geometry',\n",
    "'math.AP': 'Analysis of PDEs',\n",
    "'math.AT': 'Algebraic Topology',\n",
    "'math.CA': 'Classical Analysis and ODEs',\n",
    "'math.CO': 'Combinatorics',\n",
    "'math.CT': 'Category Theory',\n",
    "'math.CV': 'Complex Variables',\n",
    "'math.DG': 'Differential Geometry',\n",
    "'math.DS': 'Dynamical Systems',\n",
    "'math.FA': 'Functional Analysis',\n",
    "'math.GM': 'General Mathematics',\n",
    "'math.GN': 'General Topology',\n",
    "'math.GR': 'Group Theory',\n",
    "'math.GT': 'Geometric Topology',\n",
    "'math.HO': 'History and Overview',\n",
    "'math.IT': 'Information Theory',\n",
    "'math.KT': 'K-Theory and Homology',\n",
    "'math.LO': 'Logic',\n",
    "'math.MG': 'Metric Geometry',\n",
    "'math.MP': 'Mathematical Physics',\n",
    "'math.NA': 'Numerical Analysis',\n",
    "'math.NT': 'Number Theory',\n",
    "'math.OA': 'Operator Algebras',\n",
    "'math.OC': 'Optimization and Control',\n",
    "'math.PR': 'Probability',\n",
    "'math.QA': 'Quantum Algebra',\n",
    "'math.RA': 'Rings and Algebras',\n",
    "'math.RT': 'Representation Theory',\n",
    "'math.SG': 'Symplectic Geometry',\n",
    "'math.SP': 'Spectral Theory',\n",
    "'math.ST': 'Statistics Theory',\n",
    "'math-ph': 'Mathematical Physics',\n",
    "'nlin.AO': 'Adaptation and Self-Organizing Systems',\n",
    "'nlin.CD': 'Chaotic Dynamics',\n",
    "'nlin.CG': 'Cellular Automata and Lattice Gases',\n",
    "'nlin.PS': 'Pattern Formation and Solitons',\n",
    "'nlin.SI': 'Exactly Solvable and Integrable Systems',\n",
    "'nucl-ex': 'Nuclear Experiment',\n",
    "'nucl-th': 'Nuclear Theory',\n",
    "'physics.acc-ph': 'Accelerator Physics',\n",
    "'physics.ao-ph': 'Atmospheric and Oceanic Physics',\n",
    "'physics.app-ph': 'Applied Physics',\n",
    "'physics.atm-clus': 'Atomic and Molecular Clusters',\n",
    "'physics.atom-ph': 'Atomic Physics',\n",
    "'physics.bio-ph': 'Biological Physics',\n",
    "'physics.chem-ph': 'Chemical Physics',\n",
    "'physics.class-ph': 'Classical Physics',\n",
    "'physics.comp-ph': 'Computational Physics',\n",
    "'physics.data-an': 'Data Analysis, Statistics and Probability',\n",
    "'physics.ed-ph': 'Physics Education',\n",
    "'physics.flu-dyn': 'Fluid Dynamics',\n",
    "'physics.gen-ph': 'General Physics',\n",
    "'physics.geo-ph': 'Geophysics',\n",
    "'physics.hist-ph': 'History and Philosophy of Physics',\n",
    "'physics.ins-det': 'Instrumentation and Detectors',\n",
    "'physics.med-ph': 'Medical Physics',\n",
    "'physics.optics': 'Optics',\n",
    "'physics.plasm-ph': 'Plasma Physics',\n",
    "'physics.pop-ph': 'Popular Physics',\n",
    "'physics.soc-ph': 'Physics and Society',\n",
    "'physics.space-ph': 'Space Physics',\n",
    "'q-bio.BM': 'Biomolecules',\n",
    "'q-bio.CB': 'Cell Behavior',\n",
    "'q-bio.GN': 'Genomics',\n",
    "'q-bio.MN': 'Molecular Networks',\n",
    "'q-bio.NC': 'Neurons and Cognition',\n",
    "'q-bio.OT': 'Other Quantitative Biology',\n",
    "'q-bio.PE': 'Populations and Evolution',\n",
    "'q-bio.QM': 'Quantitative Methods',\n",
    "'q-bio.SC': 'Subcellular Processes',\n",
    "'q-bio.TO': 'Tissues and Organs',\n",
    "'q-fin.CP': 'Computational Finance',\n",
    "'q-fin.EC': 'Economics',\n",
    "'q-fin.GN': 'General Finance',\n",
    "'q-fin.MF': 'Mathematical Finance',\n",
    "'q-fin.PM': 'Portfolio Management',\n",
    "'q-fin.PR': 'Pricing of Securities',\n",
    "'q-fin.RM': 'Risk Management',\n",
    "'q-fin.ST': 'Statistical Finance',\n",
    "'q-fin.TR': 'Trading and Market Microstructure',\n",
    "'quant-ph': 'Quantum Physics',\n",
    "'stat.AP': 'Applications',\n",
    "'stat.CO': 'Computation',\n",
    "'stat.ME': 'Methodology',\n",
    "'stat.ML': 'Machine Learning',\n",
    "'stat.OT': 'Other Statistics',\n",
    "'stat.TH': 'Statistics Theory'\n",
    "               }"
   ]
  },
  {
   "cell_type": "code",
   "execution_count": 6,
   "id": "ff3715ad",
   "metadata": {
    "execution": {
     "iopub.execute_input": "2023-01-31T13:18:34.352808Z",
     "iopub.status.busy": "2023-01-31T13:18:34.352112Z",
     "iopub.status.idle": "2023-01-31T13:21:48.048081Z",
     "shell.execute_reply": "2023-01-31T13:21:48.044434Z"
    },
    "papermill": {
     "duration": 193.716545,
     "end_time": "2023-01-31T13:21:48.055880",
     "exception": false,
     "start_time": "2023-01-31T13:18:34.339335",
     "status": "completed"
    },
    "tags": []
   },
   "outputs": [],
   "source": [
    "get_latest_version = lambda x: x['versions'][-1]['created']\n",
    "\n",
    "trim = lambda x: {'id': x['id'],\n",
    "                  'authors': x['authors'].split(','),\n",
    "                  'title': x['title'],\n",
    "                  'doi': x['doi'],\n",
    "                  'category':x['categories'].split(' '),\n",
    "                  'abstract':x['abstract'],\n",
    "                  'date': x['update_date']}\n",
    "\n",
    "docs_df = (docs.filter(lambda x: int(get_latest_version(x).split(' ')[3]) > 2020)\n",
    "           .map(trim).\n",
    "           compute())\n",
    "\n",
    "docs_df = pd.DataFrame(docs_df)"
   ]
  },
  {
   "cell_type": "code",
   "execution_count": 7,
   "id": "960c0141",
   "metadata": {
    "execution": {
     "iopub.execute_input": "2023-01-31T13:21:48.090183Z",
     "iopub.status.busy": "2023-01-31T13:21:48.089473Z",
     "iopub.status.idle": "2023-01-31T13:22:05.484290Z",
     "shell.execute_reply": "2023-01-31T13:22:05.482943Z"
    },
    "papermill": {
     "duration": 17.414844,
     "end_time": "2023-01-31T13:22:05.487682",
     "exception": false,
     "start_time": "2023-01-31T13:21:48.072838",
     "status": "completed"
    },
    "tags": []
   },
   "outputs": [],
   "source": [
    "docs_df.to_csv(\"arxiv_docs_after_2020.csv\", index=False)"
   ]
  },
  {
   "cell_type": "code",
   "execution_count": 8,
   "id": "9e2d557a",
   "metadata": {
    "execution": {
     "iopub.execute_input": "2023-01-31T13:22:05.512101Z",
     "iopub.status.busy": "2023-01-31T13:22:05.511691Z",
     "iopub.status.idle": "2023-01-31T13:22:05.541489Z",
     "shell.execute_reply": "2023-01-31T13:22:05.540132Z"
    },
    "papermill": {
     "duration": 0.045998,
     "end_time": "2023-01-31T13:22:05.544933",
     "exception": false,
     "start_time": "2023-01-31T13:22:05.498935",
     "status": "completed"
    },
    "tags": []
   },
   "outputs": [
    {
     "data": {
      "text/html": [
       "<div>\n",
       "<style scoped>\n",
       "    .dataframe tbody tr th:only-of-type {\n",
       "        vertical-align: middle;\n",
       "    }\n",
       "\n",
       "    .dataframe tbody tr th {\n",
       "        vertical-align: top;\n",
       "    }\n",
       "\n",
       "    .dataframe thead th {\n",
       "        text-align: right;\n",
       "    }\n",
       "</style>\n",
       "<table border=\"1\" class=\"dataframe\">\n",
       "  <thead>\n",
       "    <tr style=\"text-align: right;\">\n",
       "      <th></th>\n",
       "      <th>id</th>\n",
       "      <th>authors</th>\n",
       "      <th>title</th>\n",
       "      <th>doi</th>\n",
       "      <th>category</th>\n",
       "      <th>abstract</th>\n",
       "      <th>date</th>\n",
       "    </tr>\n",
       "  </thead>\n",
       "  <tbody>\n",
       "    <tr>\n",
       "      <th>0</th>\n",
       "      <td>0704.0033</td>\n",
       "      <td>[Maxim A. Yurkin,  Valeri P. Maltsev,  Alfons ...</td>\n",
       "      <td>Convergence of the discrete dipole approximati...</td>\n",
       "      <td>10.1364/JOSAA.23.002578 10.1364/JOSAA.32.002407</td>\n",
       "      <td>[physics.optics, physics.comp-ph]</td>\n",
       "      <td>We performed a rigorous theoretical converge...</td>\n",
       "      <td>2022-03-31</td>\n",
       "    </tr>\n",
       "    <tr>\n",
       "      <th>1</th>\n",
       "      <td>0704.0038</td>\n",
       "      <td>[Maxim A. Yurkin,  Alfons G. Hoekstra]</td>\n",
       "      <td>The discrete dipole approximation: an overview...</td>\n",
       "      <td>10.1016/j.jqsrt.2007.01.034 10.1016/j.jqsrt.20...</td>\n",
       "      <td>[physics.optics, physics.comp-ph]</td>\n",
       "      <td>We present a review of the discrete dipole a...</td>\n",
       "      <td>2022-03-30</td>\n",
       "    </tr>\n",
       "    <tr>\n",
       "      <th>2</th>\n",
       "      <td>0704.0479</td>\n",
       "      <td>[T.Geisser]</td>\n",
       "      <td>The affine part of the Picard scheme</td>\n",
       "      <td>None</td>\n",
       "      <td>[math.AG, math.KT]</td>\n",
       "      <td>We describe the maximal torus and maximal un...</td>\n",
       "      <td>2021-01-29</td>\n",
       "    </tr>\n",
       "    <tr>\n",
       "      <th>3</th>\n",
       "      <td>0704.1476</td>\n",
       "      <td>[Chris Austin]</td>\n",
       "      <td>TeV-scale gravity in Horava-Witten theory on a...</td>\n",
       "      <td>None</td>\n",
       "      <td>[hep-th]</td>\n",
       "      <td>The field equations and boundary conditions ...</td>\n",
       "      <td>2022-09-02</td>\n",
       "    </tr>\n",
       "    <tr>\n",
       "      <th>4</th>\n",
       "      <td>0705.1155</td>\n",
       "      <td>[Kerry M. Soileau]</td>\n",
       "      <td>State Vector Determination By A Single Trackin...</td>\n",
       "      <td>None</td>\n",
       "      <td>[astro-ph]</td>\n",
       "      <td>Using only a single tracking satellite capab...</td>\n",
       "      <td>2022-08-29</td>\n",
       "    </tr>\n",
       "  </tbody>\n",
       "</table>\n",
       "</div>"
      ],
      "text/plain": [
       "          id                                            authors  \\\n",
       "0  0704.0033  [Maxim A. Yurkin,  Valeri P. Maltsev,  Alfons ...   \n",
       "1  0704.0038             [Maxim A. Yurkin,  Alfons G. Hoekstra]   \n",
       "2  0704.0479                                        [T.Geisser]   \n",
       "3  0704.1476                                     [Chris Austin]   \n",
       "4  0705.1155                                 [Kerry M. Soileau]   \n",
       "\n",
       "                                               title  \\\n",
       "0  Convergence of the discrete dipole approximati...   \n",
       "1  The discrete dipole approximation: an overview...   \n",
       "2               The affine part of the Picard scheme   \n",
       "3  TeV-scale gravity in Horava-Witten theory on a...   \n",
       "4  State Vector Determination By A Single Trackin...   \n",
       "\n",
       "                                                 doi  \\\n",
       "0    10.1364/JOSAA.23.002578 10.1364/JOSAA.32.002407   \n",
       "1  10.1016/j.jqsrt.2007.01.034 10.1016/j.jqsrt.20...   \n",
       "2                                               None   \n",
       "3                                               None   \n",
       "4                                               None   \n",
       "\n",
       "                            category  \\\n",
       "0  [physics.optics, physics.comp-ph]   \n",
       "1  [physics.optics, physics.comp-ph]   \n",
       "2                 [math.AG, math.KT]   \n",
       "3                           [hep-th]   \n",
       "4                         [astro-ph]   \n",
       "\n",
       "                                            abstract        date  \n",
       "0    We performed a rigorous theoretical converge...  2022-03-31  \n",
       "1    We present a review of the discrete dipole a...  2022-03-30  \n",
       "2    We describe the maximal torus and maximal un...  2021-01-29  \n",
       "3    The field equations and boundary conditions ...  2022-09-02  \n",
       "4    Using only a single tracking satellite capab...  2022-08-29  "
      ]
     },
     "execution_count": 8,
     "metadata": {},
     "output_type": "execute_result"
    }
   ],
   "source": [
    "docs_df.head()"
   ]
  },
  {
   "cell_type": "code",
   "execution_count": 9,
   "id": "ed55817a",
   "metadata": {
    "execution": {
     "iopub.execute_input": "2023-01-31T13:22:05.570400Z",
     "iopub.status.busy": "2023-01-31T13:22:05.569951Z",
     "iopub.status.idle": "2023-01-31T13:22:05.577697Z",
     "shell.execute_reply": "2023-01-31T13:22:05.576586Z"
    },
    "papermill": {
     "duration": 0.023417,
     "end_time": "2023-01-31T13:22:05.580264",
     "exception": false,
     "start_time": "2023-01-31T13:22:05.556847",
     "status": "completed"
    },
    "tags": []
   },
   "outputs": [
    {
     "data": {
      "text/plain": [
       "(435326, 7)"
      ]
     },
     "execution_count": 9,
     "metadata": {},
     "output_type": "execute_result"
    }
   ],
   "source": [
    "docs_df.shape"
   ]
  },
  {
   "cell_type": "code",
   "execution_count": 10,
   "id": "e050e8fc",
   "metadata": {
    "execution": {
     "iopub.execute_input": "2023-01-31T13:22:05.606925Z",
     "iopub.status.busy": "2023-01-31T13:22:05.606438Z",
     "iopub.status.idle": "2023-01-31T13:22:14.348033Z",
     "shell.execute_reply": "2023-01-31T13:22:14.346715Z"
    },
    "papermill": {
     "duration": 8.758853,
     "end_time": "2023-01-31T13:22:14.351459",
     "exception": false,
     "start_time": "2023-01-31T13:22:05.592606",
     "status": "completed"
    },
    "tags": []
   },
   "outputs": [],
   "source": [
    "df = pd.read_csv(\"./arxiv_docs_after_2020.csv\", low_memory=False)"
   ]
  },
  {
   "cell_type": "code",
   "execution_count": 11,
   "id": "e196d39c",
   "metadata": {
    "execution": {
     "iopub.execute_input": "2023-01-31T13:22:14.377450Z",
     "iopub.status.busy": "2023-01-31T13:22:14.377000Z",
     "iopub.status.idle": "2023-01-31T13:22:14.637145Z",
     "shell.execute_reply": "2023-01-31T13:22:14.634899Z"
    },
    "papermill": {
     "duration": 0.277574,
     "end_time": "2023-01-31T13:22:14.641023",
     "exception": false,
     "start_time": "2023-01-31T13:22:14.363449",
     "status": "completed"
    },
    "tags": []
   },
   "outputs": [
    {
     "name": "stdout",
     "output_type": "stream",
     "text": [
      "<class 'pandas.core.frame.DataFrame'>\n",
      "RangeIndex: 435326 entries, 0 to 435325\n",
      "Data columns (total 7 columns):\n",
      " #   Column    Non-Null Count   Dtype \n",
      "---  ------    --------------   ----- \n",
      " 0   id        435326 non-null  object\n",
      " 1   authors   435326 non-null  object\n",
      " 2   title     435326 non-null  object\n",
      " 3   doi       132157 non-null  object\n",
      " 4   category  435326 non-null  object\n",
      " 5   abstract  435326 non-null  object\n",
      " 6   date      435326 non-null  object\n",
      "dtypes: object(7)\n",
      "memory usage: 23.2+ MB\n"
     ]
    }
   ],
   "source": [
    "df.info()"
   ]
  },
  {
   "cell_type": "code",
   "execution_count": 12,
   "id": "628ac034",
   "metadata": {
    "execution": {
     "iopub.execute_input": "2023-01-31T13:22:14.667829Z",
     "iopub.status.busy": "2023-01-31T13:22:14.667371Z",
     "iopub.status.idle": "2023-01-31T13:22:17.640371Z",
     "shell.execute_reply": "2023-01-31T13:22:17.638837Z"
    },
    "papermill": {
     "duration": 2.990392,
     "end_time": "2023-01-31T13:22:17.643559",
     "exception": false,
     "start_time": "2023-01-31T13:22:14.653167",
     "status": "completed"
    },
    "tags": []
   },
   "outputs": [
    {
     "data": {
      "text/html": [
       "<div>\n",
       "<style scoped>\n",
       "    .dataframe tbody tr th:only-of-type {\n",
       "        vertical-align: middle;\n",
       "    }\n",
       "\n",
       "    .dataframe tbody tr th {\n",
       "        vertical-align: top;\n",
       "    }\n",
       "\n",
       "    .dataframe thead th {\n",
       "        text-align: right;\n",
       "    }\n",
       "</style>\n",
       "<table border=\"1\" class=\"dataframe\">\n",
       "  <thead>\n",
       "    <tr style=\"text-align: right;\">\n",
       "      <th></th>\n",
       "      <th>id</th>\n",
       "      <th>authors</th>\n",
       "      <th>title</th>\n",
       "      <th>doi</th>\n",
       "      <th>category</th>\n",
       "      <th>abstract</th>\n",
       "      <th>date</th>\n",
       "    </tr>\n",
       "  </thead>\n",
       "  <tbody>\n",
       "    <tr>\n",
       "      <th>count</th>\n",
       "      <td>435326</td>\n",
       "      <td>435326</td>\n",
       "      <td>435326</td>\n",
       "      <td>132157</td>\n",
       "      <td>435326</td>\n",
       "      <td>435326</td>\n",
       "      <td>435326</td>\n",
       "    </tr>\n",
       "    <tr>\n",
       "      <th>unique</th>\n",
       "      <td>435326</td>\n",
       "      <td>387899</td>\n",
       "      <td>435115</td>\n",
       "      <td>132036</td>\n",
       "      <td>30800</td>\n",
       "      <td>435255</td>\n",
       "      <td>585</td>\n",
       "    </tr>\n",
       "    <tr>\n",
       "      <th>top</th>\n",
       "      <td>0704.0033</td>\n",
       "      <td>['ATLAS Collaboration']</td>\n",
       "      <td>The LHCspin project</td>\n",
       "      <td>10.1145/1122445.1122456</td>\n",
       "      <td>['cs.CV']</td>\n",
       "      <td>In the mean field integrate-and-fire model, ...</td>\n",
       "      <td>2023-01-18</td>\n",
       "    </tr>\n",
       "    <tr>\n",
       "      <th>freq</th>\n",
       "      <td>1</td>\n",
       "      <td>198</td>\n",
       "      <td>4</td>\n",
       "      <td>16</td>\n",
       "      <td>17215</td>\n",
       "      <td>2</td>\n",
       "      <td>2878</td>\n",
       "    </tr>\n",
       "  </tbody>\n",
       "</table>\n",
       "</div>"
      ],
      "text/plain": [
       "               id                  authors                title  \\\n",
       "count      435326                   435326               435326   \n",
       "unique     435326                   387899               435115   \n",
       "top     0704.0033  ['ATLAS Collaboration']  The LHCspin project   \n",
       "freq            1                      198                    4   \n",
       "\n",
       "                            doi   category  \\\n",
       "count                    132157     435326   \n",
       "unique                   132036      30800   \n",
       "top     10.1145/1122445.1122456  ['cs.CV']   \n",
       "freq                         16      17215   \n",
       "\n",
       "                                                 abstract        date  \n",
       "count                                              435326      435326  \n",
       "unique                                             435255         585  \n",
       "top       In the mean field integrate-and-fire model, ...  2023-01-18  \n",
       "freq                                                    2        2878  "
      ]
     },
     "execution_count": 12,
     "metadata": {},
     "output_type": "execute_result"
    }
   ],
   "source": [
    "df.describe()"
   ]
  },
  {
   "cell_type": "code",
   "execution_count": 13,
   "id": "291504b5",
   "metadata": {
    "execution": {
     "iopub.execute_input": "2023-01-31T13:22:17.670524Z",
     "iopub.status.busy": "2023-01-31T13:22:17.670058Z",
     "iopub.status.idle": "2023-01-31T13:22:20.008143Z",
     "shell.execute_reply": "2023-01-31T13:22:20.006951Z"
    },
    "papermill": {
     "duration": 2.354623,
     "end_time": "2023-01-31T13:22:20.010893",
     "exception": false,
     "start_time": "2023-01-31T13:22:17.656270",
     "status": "completed"
    },
    "tags": []
   },
   "outputs": [
    {
     "data": {
      "text/plain": [
       "count                                                435297\n",
       "unique                                               435255\n",
       "top         Due to the representation limitation of the ...\n",
       "freq                                                      2\n",
       "Name: abstract, dtype: object"
      ]
     },
     "execution_count": 13,
     "metadata": {},
     "output_type": "execute_result"
    }
   ],
   "source": [
    "df.drop_duplicates(['abstract', 'title'], inplace=True)\n",
    "df['abstract'].describe(include='all')"
   ]
  },
  {
   "cell_type": "code",
   "execution_count": 14,
   "id": "6f13c4d4",
   "metadata": {
    "execution": {
     "iopub.execute_input": "2023-01-31T13:22:20.038071Z",
     "iopub.status.busy": "2023-01-31T13:22:20.037664Z",
     "iopub.status.idle": "2023-01-31T13:22:20.226845Z",
     "shell.execute_reply": "2023-01-31T13:22:20.225557Z"
    },
    "papermill": {
     "duration": 0.205837,
     "end_time": "2023-01-31T13:22:20.229719",
     "exception": false,
     "start_time": "2023-01-31T13:22:20.023882",
     "status": "completed"
    },
    "tags": []
   },
   "outputs": [],
   "source": [
    "df = df.sample(70000, random_state=42)"
   ]
  },
  {
   "cell_type": "code",
   "execution_count": 15,
   "id": "c2273d29",
   "metadata": {
    "execution": {
     "iopub.execute_input": "2023-01-31T13:22:20.259760Z",
     "iopub.status.busy": "2023-01-31T13:22:20.258478Z",
     "iopub.status.idle": "2023-01-31T13:24:47.345972Z",
     "shell.execute_reply": "2023-01-31T13:24:47.343892Z"
    },
    "papermill": {
     "duration": 147.107821,
     "end_time": "2023-01-31T13:24:47.350522",
     "exception": false,
     "start_time": "2023-01-31T13:22:20.242701",
     "status": "completed"
    },
    "tags": []
   },
   "outputs": [],
   "source": [
    "from IPython.utils import io\n",
    "with io.capture_output() as captured:\n",
    "    !pip install https://s3-us-west-2.amazonaws.com/ai2-s2-scispacy/releases/v0.4.0/en_core_sci_lg-0.4.0.tar.gz"
   ]
  },
  {
   "cell_type": "code",
   "execution_count": 16,
   "id": "d59f13f9",
   "metadata": {
    "execution": {
     "iopub.execute_input": "2023-01-31T13:24:47.381997Z",
     "iopub.status.busy": "2023-01-31T13:24:47.381516Z",
     "iopub.status.idle": "2023-01-31T13:25:09.593991Z",
     "shell.execute_reply": "2023-01-31T13:25:09.592317Z"
    },
    "papermill": {
     "duration": 22.231463,
     "end_time": "2023-01-31T13:25:09.597296",
     "exception": false,
     "start_time": "2023-01-31T13:24:47.365833",
     "status": "completed"
    },
    "tags": []
   },
   "outputs": [],
   "source": [
    "import spacy\n",
    "from spacy.lang.en.stop_words import STOP_WORDS \n",
    "import en_core_sci_lg \n",
    "# Parser\n",
    "parser = en_core_sci_lg.load()\n",
    "parser.max_length = 7000000 \n",
    "\n",
    "def spacy_tokenizer(sentence):\n",
    "    ''' Function to preprocess text of scientific papers \n",
    "        (e.g Removing Stopword and puntuations)'''\n",
    "    mytokens = parser(sentence)\n",
    "    mytokens = [ word.lemma_.lower().strip() if word.lemma_ != \"-PRON-\" else word.lower_ for word in mytokens ] # transform to lowercase and then split the scentence\n",
    "    mytokens = [ word for word in mytokens if word not in stopwords and word not in punctuations ] #remove stopsword an punctuation\n",
    "    mytokens = \" \".join([i for i in mytokens]) \n",
    "    return mytokens"
   ]
  },
  {
   "cell_type": "code",
   "execution_count": 17,
   "id": "d5c37e58",
   "metadata": {
    "execution": {
     "iopub.execute_input": "2023-01-31T13:25:09.624553Z",
     "iopub.status.busy": "2023-01-31T13:25:09.623762Z",
     "iopub.status.idle": "2023-01-31T13:25:09.630008Z",
     "shell.execute_reply": "2023-01-31T13:25:09.628568Z"
    },
    "papermill": {
     "duration": 0.022794,
     "end_time": "2023-01-31T13:25:09.632647",
     "exception": false,
     "start_time": "2023-01-31T13:25:09.609853",
     "status": "completed"
    },
    "tags": []
   },
   "outputs": [],
   "source": [
    "import string\n",
    "\n",
    "punctuations = string.punctuation\n",
    "stopwords = list(STOP_WORDS)"
   ]
  },
  {
   "cell_type": "code",
   "execution_count": 18,
   "id": "060928f0",
   "metadata": {
    "execution": {
     "iopub.execute_input": "2023-01-31T13:25:09.659316Z",
     "iopub.status.busy": "2023-01-31T13:25:09.658905Z",
     "iopub.status.idle": "2023-01-31T13:25:11.339418Z",
     "shell.execute_reply": "2023-01-31T13:25:11.338095Z"
    },
    "papermill": {
     "duration": 1.69727,
     "end_time": "2023-01-31T13:25:11.342537",
     "exception": false,
     "start_time": "2023-01-31T13:25:09.645267",
     "status": "completed"
    },
    "tags": []
   },
   "outputs": [],
   "source": [
    "def a(text):\n",
    "    text = eval(text)\n",
    "    return \" \".join(text)\n",
    "df['author'] = df['authors'].apply(a)\n",
    "df['categories'] = df['category'].apply(a)"
   ]
  },
  {
   "cell_type": "code",
   "execution_count": 19,
   "id": "94296965",
   "metadata": {
    "execution": {
     "iopub.execute_input": "2023-01-31T13:25:11.385261Z",
     "iopub.status.busy": "2023-01-31T13:25:11.384815Z",
     "iopub.status.idle": "2023-01-31T13:25:11.395888Z",
     "shell.execute_reply": "2023-01-31T13:25:11.394728Z"
    },
    "papermill": {
     "duration": 0.029784,
     "end_time": "2023-01-31T13:25:11.398600",
     "exception": false,
     "start_time": "2023-01-31T13:25:11.368816",
     "status": "completed"
    },
    "tags": []
   },
   "outputs": [
    {
     "data": {
      "text/plain": [
       "153123                                   gr-qc\n",
       "85755                    stat.ME cs.IT math.IT\n",
       "11589                                 quant-ph\n",
       "182337                 math-ph math.MP math.PR\n",
       "246139                physics.chem-ph quant-ph\n",
       "                          ...                 \n",
       "385792                       cs.LG cs.NE cs.PL\n",
       "10221                            eess.SY cs.SY\n",
       "389130                   physics.optics hep-ph\n",
       "141481                                   cs.LG\n",
       "270065    eess.SP cs.SY eess.SY physics.app-ph\n",
       "Name: categories, Length: 70000, dtype: object"
      ]
     },
     "execution_count": 19,
     "metadata": {},
     "output_type": "execute_result"
    }
   ],
   "source": [
    "df['categories']"
   ]
  },
  {
   "cell_type": "code",
   "execution_count": 20,
   "id": "43c33b5e",
   "metadata": {
    "execution": {
     "iopub.execute_input": "2023-01-31T13:25:11.431114Z",
     "iopub.status.busy": "2023-01-31T13:25:11.430654Z",
     "iopub.status.idle": "2023-01-31T13:25:11.664299Z",
     "shell.execute_reply": "2023-01-31T13:25:11.662834Z"
    },
    "papermill": {
     "duration": 0.254489,
     "end_time": "2023-01-31T13:25:11.667278",
     "exception": false,
     "start_time": "2023-01-31T13:25:11.412789",
     "status": "completed"
    },
    "tags": []
   },
   "outputs": [],
   "source": [
    "df['processed_text'] = df['abstract'] + df['author'] + df['categories']"
   ]
  },
  {
   "cell_type": "code",
   "execution_count": 21,
   "id": "c50dd6d9",
   "metadata": {
    "execution": {
     "iopub.execute_input": "2023-01-31T13:25:11.694478Z",
     "iopub.status.busy": "2023-01-31T13:25:11.693420Z",
     "iopub.status.idle": "2023-01-31T14:12:55.914135Z",
     "shell.execute_reply": "2023-01-31T14:12:55.912341Z"
    },
    "papermill": {
     "duration": 2864.242353,
     "end_time": "2023-01-31T14:12:55.921818",
     "exception": false,
     "start_time": "2023-01-31T13:25:11.679465",
     "status": "completed"
    },
    "tags": []
   },
   "outputs": [],
   "source": [
    "df[\"processed_text\"] = df[\"abstract\"].apply(spacy_tokenizer)"
   ]
  },
  {
   "cell_type": "code",
   "execution_count": 22,
   "id": "337d0a74",
   "metadata": {
    "execution": {
     "iopub.execute_input": "2023-01-31T14:12:55.950211Z",
     "iopub.status.busy": "2023-01-31T14:12:55.949791Z",
     "iopub.status.idle": "2023-01-31T14:12:57.422680Z",
     "shell.execute_reply": "2023-01-31T14:12:57.421263Z"
    },
    "papermill": {
     "duration": 1.490304,
     "end_time": "2023-01-31T14:12:57.425895",
     "exception": false,
     "start_time": "2023-01-31T14:12:55.935591",
     "status": "completed"
    },
    "tags": []
   },
   "outputs": [],
   "source": [
    "import nltk\n",
    "import re\n",
    "from nltk.stem.wordnet import WordNetLemmatizer\n",
    "lemma = WordNetLemmatizer() \n",
    "def clean(text):\n",
    "    text = re.sub(\"[^A-Za-z0-9 ]\", \" \", text)\n",
    "    tokens = nltk.word_tokenize(text)\n",
    "    text_list = []\n",
    "    for token in tokens:\n",
    "        text_list.append(lemma.lemmatize(token))\n",
    "    return ' '.join(text_list)"
   ]
  },
  {
   "cell_type": "code",
   "execution_count": 23,
   "id": "fd1501b7",
   "metadata": {
    "execution": {
     "iopub.execute_input": "2023-01-31T14:12:57.453022Z",
     "iopub.status.busy": "2023-01-31T14:12:57.452555Z",
     "iopub.status.idle": "2023-01-31T14:12:58.211533Z",
     "shell.execute_reply": "2023-01-31T14:12:58.210403Z"
    },
    "papermill": {
     "duration": 0.775785,
     "end_time": "2023-01-31T14:12:58.214198",
     "exception": false,
     "start_time": "2023-01-31T14:12:57.438413",
     "status": "completed"
    },
    "tags": []
   },
   "outputs": [
    {
     "name": "stderr",
     "output_type": "stream",
     "text": [
      "[nltk_data] Downloading package omw-1.4 to /usr/share/nltk_data...\n"
     ]
    },
    {
     "data": {
      "text/plain": [
       "True"
      ]
     },
     "execution_count": 23,
     "metadata": {},
     "output_type": "execute_result"
    }
   ],
   "source": [
    " nltk.download('omw-1.4')"
   ]
  },
  {
   "cell_type": "code",
   "execution_count": 24,
   "id": "7b9032aa",
   "metadata": {
    "execution": {
     "iopub.execute_input": "2023-01-31T14:12:58.241582Z",
     "iopub.status.busy": "2023-01-31T14:12:58.241168Z",
     "iopub.status.idle": "2023-01-31T14:14:12.266366Z",
     "shell.execute_reply": "2023-01-31T14:14:12.264904Z"
    },
    "papermill": {
     "duration": 74.042571,
     "end_time": "2023-01-31T14:14:12.269665",
     "exception": false,
     "start_time": "2023-01-31T14:12:58.227094",
     "status": "completed"
    },
    "tags": []
   },
   "outputs": [],
   "source": [
    "df['processed_text'] = df['processed_text'].apply(clean)"
   ]
  },
  {
   "cell_type": "code",
   "execution_count": 25,
   "id": "07169645",
   "metadata": {
    "execution": {
     "iopub.execute_input": "2023-01-31T14:14:12.300908Z",
     "iopub.status.busy": "2023-01-31T14:14:12.300429Z",
     "iopub.status.idle": "2023-01-31T14:14:14.556019Z",
     "shell.execute_reply": "2023-01-31T14:14:14.554817Z"
    },
    "papermill": {
     "duration": 2.275618,
     "end_time": "2023-01-31T14:14:14.558853",
     "exception": false,
     "start_time": "2023-01-31T14:14:12.283235",
     "status": "completed"
    },
    "tags": []
   },
   "outputs": [],
   "source": [
    "text_list = [list(i.split(' ')) for i in df['processed_text']]"
   ]
  },
  {
   "cell_type": "code",
   "execution_count": 26,
   "id": "9ee2cab0",
   "metadata": {
    "execution": {
     "iopub.execute_input": "2023-01-31T14:14:14.586080Z",
     "iopub.status.busy": "2023-01-31T14:14:14.585659Z",
     "iopub.status.idle": "2023-01-31T14:14:14.941449Z",
     "shell.execute_reply": "2023-01-31T14:14:14.940258Z"
    },
    "papermill": {
     "duration": 0.372654,
     "end_time": "2023-01-31T14:14:14.944353",
     "exception": false,
     "start_time": "2023-01-31T14:14:14.571699",
     "status": "completed"
    },
    "tags": []
   },
   "outputs": [],
   "source": [
    "import gensim\n",
    "from gensim.models.doc2vec import Doc2Vec, TaggedDocument\n",
    "\n",
    "tagged_data = [TaggedDocument(words = doc, tags=[i]) for i, doc in enumerate(text_list)]"
   ]
  },
  {
   "cell_type": "code",
   "execution_count": 27,
   "id": "5b8ca0b2",
   "metadata": {
    "execution": {
     "iopub.execute_input": "2023-01-31T14:14:14.974072Z",
     "iopub.status.busy": "2023-01-31T14:14:14.973559Z",
     "iopub.status.idle": "2023-01-31T14:17:48.128784Z",
     "shell.execute_reply": "2023-01-31T14:17:48.126747Z"
    },
    "papermill": {
     "duration": 213.174391,
     "end_time": "2023-01-31T14:17:48.133477",
     "exception": false,
     "start_time": "2023-01-31T14:14:14.959086",
     "status": "completed"
    },
    "tags": []
   },
   "outputs": [],
   "source": [
    "model = Doc2Vec(tagged_data, min_count=1, workers=4)"
   ]
  },
  {
   "cell_type": "code",
   "execution_count": 28,
   "id": "5aa048b9",
   "metadata": {
    "execution": {
     "iopub.execute_input": "2023-01-31T14:17:48.163673Z",
     "iopub.status.busy": "2023-01-31T14:17:48.163147Z",
     "iopub.status.idle": "2023-01-31T14:17:48.202986Z",
     "shell.execute_reply": "2023-01-31T14:17:48.201733Z"
    },
    "papermill": {
     "duration": 0.057475,
     "end_time": "2023-01-31T14:17:48.205784",
     "exception": false,
     "start_time": "2023-01-31T14:17:48.148309",
     "status": "completed"
    },
    "tags": []
   },
   "outputs": [],
   "source": [
    "df.index = [i for i in range(70000)]"
   ]
  },
  {
   "cell_type": "code",
   "execution_count": 29,
   "id": "e6dc070b",
   "metadata": {
    "execution": {
     "iopub.execute_input": "2023-01-31T14:17:48.233300Z",
     "iopub.status.busy": "2023-01-31T14:17:48.232896Z",
     "iopub.status.idle": "2023-01-31T14:17:48.278274Z",
     "shell.execute_reply": "2023-01-31T14:17:48.276625Z"
    },
    "papermill": {
     "duration": 0.064317,
     "end_time": "2023-01-31T14:17:48.282933",
     "exception": false,
     "start_time": "2023-01-31T14:17:48.218616",
     "status": "completed"
    },
    "tags": []
   },
   "outputs": [],
   "source": [
    "paper_rec_sim = df.processed_text[9971].split(' ')\n",
    "paper_vectorized = model.infer_vector(paper_rec_sim)\n",
    "sim_5_article = model.dv.most_similar(positive=[paper_vectorized])[:5]"
   ]
  },
  {
   "cell_type": "code",
   "execution_count": 30,
   "id": "e0fb48b7",
   "metadata": {
    "execution": {
     "iopub.execute_input": "2023-01-31T14:17:48.351209Z",
     "iopub.status.busy": "2023-01-31T14:17:48.350334Z",
     "iopub.status.idle": "2023-01-31T14:17:48.386956Z",
     "shell.execute_reply": "2023-01-31T14:17:48.385327Z"
    },
    "papermill": {
     "duration": 0.074756,
     "end_time": "2023-01-31T14:17:48.390331",
     "exception": false,
     "start_time": "2023-01-31T14:17:48.315575",
     "status": "completed"
    },
    "tags": []
   },
   "outputs": [
    {
     "data": {
      "text/html": [
       "<div>\n",
       "<style scoped>\n",
       "    .dataframe tbody tr th:only-of-type {\n",
       "        vertical-align: middle;\n",
       "    }\n",
       "\n",
       "    .dataframe tbody tr th {\n",
       "        vertical-align: top;\n",
       "    }\n",
       "\n",
       "    .dataframe thead th {\n",
       "        text-align: right;\n",
       "    }\n",
       "</style>\n",
       "<table border=\"1\" class=\"dataframe\">\n",
       "  <thead>\n",
       "    <tr style=\"text-align: right;\">\n",
       "      <th></th>\n",
       "      <th>rank</th>\n",
       "      <th>id</th>\n",
       "      <th>text</th>\n",
       "      <th>cos_sim</th>\n",
       "    </tr>\n",
       "  </thead>\n",
       "  <tbody>\n",
       "    <tr>\n",
       "      <th>0</th>\n",
       "      <td>1</td>\n",
       "      <td>2210.17038</td>\n",
       "      <td>create nonradiate dark mode key achieve high q...</td>\n",
       "      <td>0.891327</td>\n",
       "    </tr>\n",
       "    <tr>\n",
       "      <th>1</th>\n",
       "      <td>2</td>\n",
       "      <td>2103.11581</td>\n",
       "      <td>ability extreme sound energy confinement high ...</td>\n",
       "      <td>0.556483</td>\n",
       "    </tr>\n",
       "    <tr>\n",
       "      <th>2</th>\n",
       "      <td>3</td>\n",
       "      <td>2202.03552</td>\n",
       "      <td>floquet topological photonic insulator light t...</td>\n",
       "      <td>0.554850</td>\n",
       "    </tr>\n",
       "    <tr>\n",
       "      <th>3</th>\n",
       "      <td>4</td>\n",
       "      <td>1803.05841</td>\n",
       "      <td>single impurity effect graphene based supercon...</td>\n",
       "      <td>0.550083</td>\n",
       "    </tr>\n",
       "    <tr>\n",
       "      <th>4</th>\n",
       "      <td>5</td>\n",
       "      <td>2206.08897</td>\n",
       "      <td>experimentally observe lase hexamer plasmonic ...</td>\n",
       "      <td>0.540384</td>\n",
       "    </tr>\n",
       "  </tbody>\n",
       "</table>\n",
       "</div>"
      ],
      "text/plain": [
       "   rank          id                                               text  \\\n",
       "0     1  2210.17038  create nonradiate dark mode key achieve high q...   \n",
       "1     2  2103.11581  ability extreme sound energy confinement high ...   \n",
       "2     3  2202.03552  floquet topological photonic insulator light t...   \n",
       "3     4  1803.05841  single impurity effect graphene based supercon...   \n",
       "4     5  2206.08897  experimentally observe lase hexamer plasmonic ...   \n",
       "\n",
       "    cos_sim  \n",
       "0  0.891327  \n",
       "1  0.556483  \n",
       "2  0.554850  \n",
       "3  0.550083  \n",
       "4  0.540384  "
      ]
     },
     "execution_count": 30,
     "metadata": {},
     "output_type": "execute_result"
    }
   ],
   "source": [
    "#get inference\n",
    "def inference(similar_articles):\n",
    "    sim_list = []\n",
    "    for ind, value in enumerate(similar_articles):\n",
    "        index = value[0]\n",
    "        sim_list.append([ind + 1, df.id[index], df.processed_text[index], value[1]])\n",
    "    return (pd.DataFrame(sim_list, columns=[\"rank\", \"id\", \"text\", \"cos_sim\"]))\n",
    "inference(sim_5_article)"
   ]
  },
  {
   "cell_type": "code",
   "execution_count": 31,
   "id": "7b723139",
   "metadata": {
    "execution": {
     "iopub.execute_input": "2023-01-31T14:17:48.418751Z",
     "iopub.status.busy": "2023-01-31T14:17:48.417986Z",
     "iopub.status.idle": "2023-01-31T14:17:48.957793Z",
     "shell.execute_reply": "2023-01-31T14:17:48.956819Z"
    },
    "papermill": {
     "duration": 0.558053,
     "end_time": "2023-01-31T14:17:48.961396",
     "exception": false,
     "start_time": "2023-01-31T14:17:48.403343",
     "status": "completed"
    },
    "tags": []
   },
   "outputs": [],
   "source": [
    "import pickle as pkl\n",
    "with open('model.bin', 'wb') as f:\n",
    "    pkl.dump(model, f)"
   ]
  },
  {
   "cell_type": "code",
   "execution_count": 32,
   "id": "40557eb3",
   "metadata": {
    "execution": {
     "iopub.execute_input": "2023-01-31T14:17:48.998696Z",
     "iopub.status.busy": "2023-01-31T14:17:48.998239Z",
     "iopub.status.idle": "2023-01-31T14:17:49.005562Z",
     "shell.execute_reply": "2023-01-31T14:17:49.004433Z"
    },
    "papermill": {
     "duration": 0.031134,
     "end_time": "2023-01-31T14:17:49.010190",
     "exception": false,
     "start_time": "2023-01-31T14:17:48.979056",
     "status": "completed"
    },
    "tags": []
   },
   "outputs": [
    {
     "data": {
      "text/plain": [
       "['model.bin', 'arxiv_docs_after_2020.csv', '__notebook__.ipynb']"
      ]
     },
     "execution_count": 32,
     "metadata": {},
     "output_type": "execute_result"
    }
   ],
   "source": [
    "import os\n",
    "os.listdir()"
   ]
  },
  {
   "cell_type": "code",
   "execution_count": 33,
   "id": "0d4c8295",
   "metadata": {
    "execution": {
     "iopub.execute_input": "2023-01-31T14:17:49.038541Z",
     "iopub.status.busy": "2023-01-31T14:17:49.037749Z",
     "iopub.status.idle": "2023-01-31T14:17:49.043002Z",
     "shell.execute_reply": "2023-01-31T14:17:49.042024Z"
    },
    "papermill": {
     "duration": 0.022096,
     "end_time": "2023-01-31T14:17:49.045292",
     "exception": false,
     "start_time": "2023-01-31T14:17:49.023196",
     "status": "completed"
    },
    "tags": []
   },
   "outputs": [],
   "source": [
    "# from sklearn.feature_extraction.text import TfidfVectorizer\n",
    "# def vectorize(text, maxx_features):\n",
    "    \n",
    "#     vectorizer = TfidfVectorizer(max_features=maxx_features)\n",
    "#     X = vectorizer.fit_transform(text)\n",
    "#     return X\n",
    "# #vectorize each processed abstract\n",
    "# text = df['processed_text'].values\n",
    "# X = vectorize(text, 2 ** 9)\n",
    "# X.shape"
   ]
  },
  {
   "cell_type": "code",
   "execution_count": 34,
   "id": "7282cd11",
   "metadata": {
    "execution": {
     "iopub.execute_input": "2023-01-31T14:17:49.073857Z",
     "iopub.status.busy": "2023-01-31T14:17:49.072840Z",
     "iopub.status.idle": "2023-01-31T14:17:49.078243Z",
     "shell.execute_reply": "2023-01-31T14:17:49.077301Z"
    },
    "papermill": {
     "duration": 0.022514,
     "end_time": "2023-01-31T14:17:49.080683",
     "exception": false,
     "start_time": "2023-01-31T14:17:49.058169",
     "status": "completed"
    },
    "tags": []
   },
   "outputs": [],
   "source": [
    "# from sklearn.decomposition import PCA\n",
    "\n",
    "# pca = PCA(n_components=0.95, random_state=42) #Keep 95% of the variance\n",
    "# X_reduced= pca.fit_transform(X.toarray())\n",
    "# X_reduced.shape"
   ]
  },
  {
   "cell_type": "code",
   "execution_count": 35,
   "id": "c3010724",
   "metadata": {
    "execution": {
     "iopub.execute_input": "2023-01-31T14:17:49.109336Z",
     "iopub.status.busy": "2023-01-31T14:17:49.108481Z",
     "iopub.status.idle": "2023-01-31T14:17:49.127839Z",
     "shell.execute_reply": "2023-01-31T14:17:49.126825Z"
    },
    "papermill": {
     "duration": 0.036929,
     "end_time": "2023-01-31T14:17:49.130617",
     "exception": false,
     "start_time": "2023-01-31T14:17:49.093688",
     "status": "completed"
    },
    "tags": []
   },
   "outputs": [],
   "source": [
    "# from sklearn.metrics.pairwise import cosine_similarity\n",
    "# sim = cosine_similarity(X_reduced)"
   ]
  },
  {
   "cell_type": "code",
   "execution_count": 36,
   "id": "176ae36f",
   "metadata": {
    "execution": {
     "iopub.execute_input": "2023-01-31T14:17:49.164247Z",
     "iopub.status.busy": "2023-01-31T14:17:49.163404Z",
     "iopub.status.idle": "2023-01-31T14:17:49.168916Z",
     "shell.execute_reply": "2023-01-31T14:17:49.167946Z"
    },
    "papermill": {
     "duration": 0.024421,
     "end_time": "2023-01-31T14:17:49.171230",
     "exception": false,
     "start_time": "2023-01-31T14:17:49.146809",
     "status": "completed"
    },
    "tags": []
   },
   "outputs": [],
   "source": [
    "# def recommend(paper_id):\n",
    "#     ind = df[df['id'] == paper_id].index[0]\n",
    "#   # Compute the cosine similarity between the vector of the paper and all other papers\n",
    "#     distances = sorted(\n",
    "#         list(enumerate(sim[ind])), reverse=True, key=lambda x: x[1])\n",
    "#     rec = [df.iloc[i[0]].id for i in distances[1:11]]\n",
    "#     return rec\n"
   ]
  },
  {
   "cell_type": "code",
   "execution_count": 37,
   "id": "189cdb2f",
   "metadata": {
    "execution": {
     "iopub.execute_input": "2023-01-31T14:17:49.198912Z",
     "iopub.status.busy": "2023-01-31T14:17:49.198074Z",
     "iopub.status.idle": "2023-01-31T14:17:49.203205Z",
     "shell.execute_reply": "2023-01-31T14:17:49.202361Z"
    },
    "papermill": {
     "duration": 0.021781,
     "end_time": "2023-01-31T14:17:49.205581",
     "exception": false,
     "start_time": "2023-01-31T14:17:49.183800",
     "status": "completed"
    },
    "tags": []
   },
   "outputs": [],
   "source": [
    "# recommend('2109.09191')"
   ]
  },
  {
   "cell_type": "code",
   "execution_count": 38,
   "id": "d83aa266",
   "metadata": {
    "execution": {
     "iopub.execute_input": "2023-01-31T14:17:49.233515Z",
     "iopub.status.busy": "2023-01-31T14:17:49.232738Z",
     "iopub.status.idle": "2023-01-31T14:17:49.237570Z",
     "shell.execute_reply": "2023-01-31T14:17:49.236817Z"
    },
    "papermill": {
     "duration": 0.021449,
     "end_time": "2023-01-31T14:17:49.239908",
     "exception": false,
     "start_time": "2023-01-31T14:17:49.218459",
     "status": "completed"
    },
    "tags": []
   },
   "outputs": [],
   "source": [
    "# df.tail(50)"
   ]
  },
  {
   "cell_type": "code",
   "execution_count": 39,
   "id": "0959c0c2",
   "metadata": {
    "execution": {
     "iopub.execute_input": "2023-01-31T14:17:49.267901Z",
     "iopub.status.busy": "2023-01-31T14:17:49.267013Z",
     "iopub.status.idle": "2023-01-31T14:17:49.272287Z",
     "shell.execute_reply": "2023-01-31T14:17:49.271406Z"
    },
    "papermill": {
     "duration": 0.022029,
     "end_time": "2023-01-31T14:17:49.274713",
     "exception": false,
     "start_time": "2023-01-31T14:17:49.252684",
     "status": "completed"
    },
    "tags": []
   },
   "outputs": [],
   "source": [
    "# from sklearn.feature_extraction.text import CountVectorizer"
   ]
  },
  {
   "cell_type": "code",
   "execution_count": 40,
   "id": "b37f0c0c",
   "metadata": {
    "execution": {
     "iopub.execute_input": "2023-01-31T14:17:49.302765Z",
     "iopub.status.busy": "2023-01-31T14:17:49.301944Z",
     "iopub.status.idle": "2023-01-31T14:17:49.306913Z",
     "shell.execute_reply": "2023-01-31T14:17:49.305997Z"
    },
    "papermill": {
     "duration": 0.021758,
     "end_time": "2023-01-31T14:17:49.309254",
     "exception": false,
     "start_time": "2023-01-31T14:17:49.287496",
     "status": "completed"
    },
    "tags": []
   },
   "outputs": [],
   "source": [
    "# cv = CountVectorizer(max_features=5000,stop_words='english')\n",
    "# text = df['processed_text'].values"
   ]
  },
  {
   "cell_type": "code",
   "execution_count": 41,
   "id": "d0a13420",
   "metadata": {
    "execution": {
     "iopub.execute_input": "2023-01-31T14:17:49.337514Z",
     "iopub.status.busy": "2023-01-31T14:17:49.336706Z",
     "iopub.status.idle": "2023-01-31T14:17:49.341490Z",
     "shell.execute_reply": "2023-01-31T14:17:49.340725Z"
    },
    "papermill": {
     "duration": 0.02142,
     "end_time": "2023-01-31T14:17:49.343795",
     "exception": false,
     "start_time": "2023-01-31T14:17:49.322375",
     "status": "completed"
    },
    "tags": []
   },
   "outputs": [],
   "source": [
    "# X_bag = cv.fit_transform(text)\n",
    "# X_bag_reduced= pca.fit_transform(X_bag.toarray())"
   ]
  },
  {
   "cell_type": "code",
   "execution_count": 42,
   "id": "0cc0a426",
   "metadata": {
    "execution": {
     "iopub.execute_input": "2023-01-31T14:17:49.500974Z",
     "iopub.status.busy": "2023-01-31T14:17:49.500211Z",
     "iopub.status.idle": "2023-01-31T14:17:49.505002Z",
     "shell.execute_reply": "2023-01-31T14:17:49.504199Z"
    },
    "papermill": {
     "duration": 0.021952,
     "end_time": "2023-01-31T14:17:49.507247",
     "exception": false,
     "start_time": "2023-01-31T14:17:49.485295",
     "status": "completed"
    },
    "tags": []
   },
   "outputs": [],
   "source": [
    "# sim_bag = cosine_similarity(X_bag_reduced)\n"
   ]
  },
  {
   "cell_type": "code",
   "execution_count": 43,
   "id": "4708b4f4",
   "metadata": {
    "execution": {
     "iopub.execute_input": "2023-01-31T14:17:49.535001Z",
     "iopub.status.busy": "2023-01-31T14:17:49.534546Z",
     "iopub.status.idle": "2023-01-31T14:17:49.539471Z",
     "shell.execute_reply": "2023-01-31T14:17:49.538257Z"
    },
    "papermill": {
     "duration": 0.02148,
     "end_time": "2023-01-31T14:17:49.541624",
     "exception": false,
     "start_time": "2023-01-31T14:17:49.520144",
     "status": "completed"
    },
    "tags": []
   },
   "outputs": [],
   "source": [
    "# def recommend_bag(paper_id):\n",
    "#     ind = df[df['id'] == paper_id].index[0]\n",
    "#   # Compute the cosine similarity between the vector of the paper and all other papers\n",
    "#     distances = sorted(\n",
    "#         list(enumerate(sim_bag[ind])), reverse=True, key=lambda x: x[1])\n",
    "#     rec = [df.iloc[i[0]].id for i in distances[1:11]]\n",
    "#     return rec\n",
    "# recommend_bag('2109.09191')"
   ]
  },
  {
   "cell_type": "code",
   "execution_count": 44,
   "id": "250c2a24",
   "metadata": {
    "execution": {
     "iopub.execute_input": "2023-01-31T14:17:49.570225Z",
     "iopub.status.busy": "2023-01-31T14:17:49.568832Z",
     "iopub.status.idle": "2023-01-31T14:17:49.574691Z",
     "shell.execute_reply": "2023-01-31T14:17:49.573706Z"
    },
    "papermill": {
     "duration": 0.022544,
     "end_time": "2023-01-31T14:17:49.577058",
     "exception": false,
     "start_time": "2023-01-31T14:17:49.554514",
     "status": "completed"
    },
    "tags": []
   },
   "outputs": [],
   "source": [
    "# !pip install sentence-transformers"
   ]
  },
  {
   "cell_type": "code",
   "execution_count": 45,
   "id": "c5be1250",
   "metadata": {
    "execution": {
     "iopub.execute_input": "2023-01-31T14:17:49.606241Z",
     "iopub.status.busy": "2023-01-31T14:17:49.604787Z",
     "iopub.status.idle": "2023-01-31T14:17:49.610721Z",
     "shell.execute_reply": "2023-01-31T14:17:49.609775Z"
    },
    "papermill": {
     "duration": 0.022793,
     "end_time": "2023-01-31T14:17:49.613038",
     "exception": false,
     "start_time": "2023-01-31T14:17:49.590245",
     "status": "completed"
    },
    "tags": []
   },
   "outputs": [],
   "source": [
    "# from sentence_transformers import SentenceTransformer\n",
    "# import numpy as np\n",
    "\n",
    "# model = SentenceTransformer('bert-base-nli-mean-tokens')"
   ]
  },
  {
   "cell_type": "code",
   "execution_count": 46,
   "id": "2e2677ec",
   "metadata": {
    "execution": {
     "iopub.execute_input": "2023-01-31T14:17:49.641537Z",
     "iopub.status.busy": "2023-01-31T14:17:49.640358Z",
     "iopub.status.idle": "2023-01-31T14:17:49.645807Z",
     "shell.execute_reply": "2023-01-31T14:17:49.644883Z"
    },
    "papermill": {
     "duration": 0.022017,
     "end_time": "2023-01-31T14:17:49.648035",
     "exception": false,
     "start_time": "2023-01-31T14:17:49.626018",
     "status": "completed"
    },
    "tags": []
   },
   "outputs": [],
   "source": [
    "# sentence_embeddings = model.encode(df['processed_text'].values)"
   ]
  },
  {
   "cell_type": "code",
   "execution_count": 47,
   "id": "e6249e83",
   "metadata": {
    "execution": {
     "iopub.execute_input": "2023-01-31T14:17:49.677825Z",
     "iopub.status.busy": "2023-01-31T14:17:49.676513Z",
     "iopub.status.idle": "2023-01-31T14:17:49.682116Z",
     "shell.execute_reply": "2023-01-31T14:17:49.681123Z"
    },
    "papermill": {
     "duration": 0.023571,
     "end_time": "2023-01-31T14:17:49.684386",
     "exception": false,
     "start_time": "2023-01-31T14:17:49.660815",
     "status": "completed"
    },
    "tags": []
   },
   "outputs": [],
   "source": [
    "# sim_bert = cosine_similarity(sentence_embeddings)"
   ]
  },
  {
   "cell_type": "code",
   "execution_count": 48,
   "id": "5b84fafd",
   "metadata": {
    "execution": {
     "iopub.execute_input": "2023-01-31T14:17:49.713614Z",
     "iopub.status.busy": "2023-01-31T14:17:49.712498Z",
     "iopub.status.idle": "2023-01-31T14:17:49.718190Z",
     "shell.execute_reply": "2023-01-31T14:17:49.717242Z"
    },
    "papermill": {
     "duration": 0.02299,
     "end_time": "2023-01-31T14:17:49.720481",
     "exception": false,
     "start_time": "2023-01-31T14:17:49.697491",
     "status": "completed"
    },
    "tags": []
   },
   "outputs": [],
   "source": [
    "# def recommend_bert(paper_id):\n",
    "#     ind = df[df['id'] == paper_id].index[0]\n",
    "#   # Compute the cosine similarity between the vector of the paper and all other papers\n",
    "#     distances = sorted(\n",
    "#         list(enumerate(sim_bert[ind])), reverse=True, key=lambda x: x[1])\n",
    "#     rec = [df.iloc[i[0]].id for i in distances[1:11]]\n",
    "#     return rec\n",
    "# recommend_bert('2109.09191')"
   ]
  },
  {
   "cell_type": "code",
   "execution_count": null,
   "id": "9a6c4f22",
   "metadata": {
    "papermill": {
     "duration": 0.014666,
     "end_time": "2023-01-31T14:17:49.748989",
     "exception": false,
     "start_time": "2023-01-31T14:17:49.734323",
     "status": "completed"
    },
    "tags": []
   },
   "outputs": [],
   "source": []
  }
 ],
 "metadata": {
  "kernelspec": {
   "display_name": "Python 3",
   "language": "python",
   "name": "python3"
  },
  "language_info": {
   "codemirror_mode": {
    "name": "ipython",
    "version": 3
   },
   "file_extension": ".py",
   "mimetype": "text/x-python",
   "name": "python",
   "nbconvert_exporter": "python",
   "pygments_lexer": "ipython3",
   "version": "3.7.12"
  },
  "papermill": {
   "default_parameters": {},
   "duration": 3637.358832,
   "end_time": "2023-01-31T14:17:52.795179",
   "environment_variables": {},
   "exception": null,
   "input_path": "__notebook__.ipynb",
   "output_path": "__notebook__.ipynb",
   "parameters": {},
   "start_time": "2023-01-31T13:17:15.436347",
   "version": "2.3.4"
  }
 },
 "nbformat": 4,
 "nbformat_minor": 5
}
